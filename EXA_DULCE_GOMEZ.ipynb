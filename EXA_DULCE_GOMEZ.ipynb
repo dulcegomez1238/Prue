{
  "nbformat": 4,
  "nbformat_minor": 0,
  "metadata": {
    "colab": {
      "provenance": [],
      "authorship_tag": "ABX9TyOt6a1dQQ8IKQt7vhq8ZcFC",
      "include_colab_link": true
    },
    "kernelspec": {
      "name": "python3",
      "display_name": "Python 3"
    },
    "language_info": {
      "name": "python"
    }
  },
  "cells": [
    {
      "cell_type": "markdown",
      "metadata": {
        "id": "view-in-github",
        "colab_type": "text"
      },
      "source": [
        "<a href=\"https://colab.research.google.com/github/dulcegomez1238/Prue/blob/main/EXA_DULCE_GOMEZ.ipynb\" target=\"_parent\"><img src=\"https://colab.research.google.com/assets/colab-badge.svg\" alt=\"Open In Colab\"/></a>"
      ]
    },
    {
      "cell_type": "code",
      "execution_count": null,
      "metadata": {
        "id": "UG-yLMAlRcbM"
      },
      "outputs": [],
      "source": []
    },
    {
      "cell_type": "markdown",
      "source": [
        "##DULCE KARINA GOMEZ PATIÑO\n",
        "##GRADO Y GRUPO \"5J\"\n",
        "##NUM CONTROL 223220051500080\n"
      ],
      "metadata": {
        "id": "e8sOHClhS24x"
      }
    },
    {
      "cell_type": "code",
      "source": [
        "class Mochila:##MOCHILA ESPAÑOLA\n",
        "    \"\"\"\n",
        "    Representa una mochila con sus características principales.\n",
        "    \"\"\"\n",
        "    def __init__(self, nombre, color, marca, alto_cm, ancho_cm, profundidad_cm, capacidad_litros, material, uso):\n",
        "        self.nombre = nombre\n",
        "        self.color = color\n",
        "        self.marca = marca\n",
        "        self.tamaño_cm = {\n",
        "            \"alto\": alto_cm,\n",
        "            \"ancho\": ancho_cm,\n",
        "            \"profundidad\": profundidad_cm\n",
        "        }\n",
        "        self.capacidad_litros = capacidad_litros\n",
        "        self.material = material\n",
        "        self.uso = uso\n",
        "\n",
        "    def __str__(self):\n",
        "        \"\"\"\n",
        "        Método para representar la mochila de forma legible cuando se imprime.\n",
        "        \"\"\"\n",
        "        return (f\"Nombre: {self.nombre}\\n\"\n",
        "                f\"  Marca: {self.marca}\\n\"\n",
        "                f\"  Color: {self.color}\\n\"\n",
        "                f\"  Tamaño (Alto x Ancho x Profundidad): {self.tamaño_cm['alto']}x{self.tamaño_cm['ancho']}x{self.tamaño_cm['profundidad']} cm\\n\"\n",
        "                f\"  Capacidad: {self.capacidad_litros} litros\\n\"\n",
        "                f\"  Material: {self.material}\\n\"\n",
        "                f\"  Uso principal: {self.uso}\")\n",
        "\n",
        "# Crear instancias de la clase Mochila y guardarlas en una lista\n",
        "lista_mochilas = [\n",
        "    Mochila(\"Aventurera Urbana\", \"Negro carbón con detalles en gris grafito\", \"ExploraGear\", 48, 32, 18, 30, \"Nylon balístico 1000D\", \"Diario y viajes cortos\"),\n",
        "    Mochila(\"Mochila Senderista\", \"Verde oliva\", \"MontañaViva\", 60, 35, 25, 50, \"Poliéster Ripstop\", \"Senderismo y campismo\"),\n",
        "    Mochila(\"Mochila Minimalista\", \"Gris claro\", \"UrbanPack\", 40, 28, 15, 18, \"Lona de algodón\", \"Urbano y laptop\"),\n",
        "    Mochila(\"Mochila Táctica\", \"Camuflaje desierto\", \"GearUp\", 55, 30, 22, 40, \"Cordura 500D\", \"Militar y actividades al aire libre\")\n",
        "]\n",
        "\n",
        "# Iterar sobre la lista de objetos Mochila usando un ciclo 'for'\n",
        "print(\"--- Información detallada de las mochilas ---\")\n",
        "for mochila_actual in lista_mochilas:\n",
        "    print(f\"\\n{mochila_actual}\") # Aquí se usa el método __str__ de la clase\n",
        "\n",
        "print(\"\\n--- Fin de la lista ---\")"
      ],
      "metadata": {
        "colab": {
          "base_uri": "https://localhost:8080/"
        },
        "id": "ShwxVGIDXFVT",
        "outputId": "47c1b9b1-966b-4762-e2c6-80993ab56421"
      },
      "execution_count": 4,
      "outputs": [
        {
          "output_type": "stream",
          "name": "stdout",
          "text": [
            "--- Información detallada de las mochilas ---\n",
            "\n",
            "Nombre: Aventurera Urbana\n",
            "  Marca: ExploraGear\n",
            "  Color: Negro carbón con detalles en gris grafito\n",
            "  Tamaño (Alto x Ancho x Profundidad): 48x32x18 cm\n",
            "  Capacidad: 30 litros\n",
            "  Material: Nylon balístico 1000D\n",
            "  Uso principal: Diario y viajes cortos\n",
            "\n",
            "Nombre: Mochila Senderista\n",
            "  Marca: MontañaViva\n",
            "  Color: Verde oliva\n",
            "  Tamaño (Alto x Ancho x Profundidad): 60x35x25 cm\n",
            "  Capacidad: 50 litros\n",
            "  Material: Poliéster Ripstop\n",
            "  Uso principal: Senderismo y campismo\n",
            "\n",
            "Nombre: Mochila Minimalista\n",
            "  Marca: UrbanPack\n",
            "  Color: Gris claro\n",
            "  Tamaño (Alto x Ancho x Profundidad): 40x28x15 cm\n",
            "  Capacidad: 18 litros\n",
            "  Material: Lona de algodón\n",
            "  Uso principal: Urbano y laptop\n",
            "\n",
            "Nombre: Mochila Táctica\n",
            "  Marca: GearUp\n",
            "  Color: Camuflaje desierto\n",
            "  Tamaño (Alto x Ancho x Profundidad): 55x30x22 cm\n",
            "  Capacidad: 40 litros\n",
            "  Material: Cordura 500D\n",
            "  Uso principal: Militar y actividades al aire libre\n",
            "\n",
            "--- Fin de la lista ---\n"
          ]
        }
      ]
    }
  ]
}