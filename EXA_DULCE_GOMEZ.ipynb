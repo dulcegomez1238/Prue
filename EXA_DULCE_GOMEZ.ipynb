{
  "nbformat": 4,
  "nbformat_minor": 0,
  "metadata": {
    "colab": {
      "provenance": [],
      "authorship_tag": "ABX9TyMErJoOY1sdeDQ2ZpkalFBV",
      "include_colab_link": true
    },
    "kernelspec": {
      "name": "python3",
      "display_name": "Python 3"
    },
    "language_info": {
      "name": "python"
    }
  },
  "cells": [
    {
      "cell_type": "markdown",
      "metadata": {
        "id": "view-in-github",
        "colab_type": "text"
      },
      "source": [
        "<a href=\"https://colab.research.google.com/github/dulcegomez1238/Prue/blob/main/EXA_DULCE_GOMEZ.ipynb\" target=\"_parent\"><img src=\"https://colab.research.google.com/assets/colab-badge.svg\" alt=\"Open In Colab\"/></a>"
      ]
    },
    {
      "cell_type": "code",
      "execution_count": null,
      "metadata": {
        "id": "UG-yLMAlRcbM"
      },
      "outputs": [],
      "source": []
    },
    {
      "cell_type": "markdown",
      "source": [
        "##DULCE KARINA GOMEZ PATIÑO\n",
        "##GRADO Y GRUPO \"5J\"\n",
        "##NUM CONTROL 223220051500080\n"
      ],
      "metadata": {
        "id": "e8sOHClhS24x"
      }
    },
    {
      "cell_type": "code",
      "source": [
        "class Mochila:\n",
        "    \"\"\"\n",
        "    Representa una mochila con sus características principales, incluyendo una matrícula única.\n",
        "    \"\"\"\n",
        "    def __init__(self, matricula, nombre, color, marca, alto_cm, ancho_cm, profundidad_cm, capacidad_litros, material, uso):\n",
        "        self.matricula = matricula  # Nuevo atributo para la matrícula\n",
        "        self.nombre = nombre\n",
        "        self.color = color\n",
        "        self.marca = marca\n",
        "        self.tamaño_cm = {\n",
        "            \"alto\": alto_cm,\n",
        "            \"ancho\": ancho_cm,\n",
        "            \"profundidad\": profundidad_cm\n",
        "        }\n",
        "        self.capacidad_litros = capacidad_litros\n",
        "        self.material = material\n",
        "        self.uso = uso\n",
        "\n",
        "    def __str__(self):\n",
        "        \"\"\"\n",
        "        Método para representar la mochila de forma legible cuando se imprime, ahora incluyendo la matrícula.\n",
        "        \"\"\"\n",
        "        return (f\"Matrícula: {self.matricula}\\n\"  # La matrícula ahora es parte de la representación\n",
        "                f\"Nombre: {self.nombre}\\n\"\n",
        "                f\"  Marca: {self.marca}\\n\"\n",
        "                f\"  Color: {self.color}\\n\"\n",
        "                f\"  Tamaño (Alto x Ancho x Profundidad): {self.tamaño_cm['alto']}x{self.tamaño_cm['ancho']}x{self.tamaño_cm['profundidad']} cm\\n\"\n",
        "                f\"  Capacidad: {self.capacidad_litros} litros\\n\"\n",
        "                f\"  Material: {self.material}\\n\"\n",
        "                f\"  Uso principal: {self.uso}\")\n",
        "\n",
        "# Crear instancias de la clase Mochila con matrícula y guardarlas en una lista\n",
        "lista_mochilas = [\n",
        "    Mochila(\"MOC001\", \"Aventurera Urbana\", \"Negro carbón con detalles en gris grafito\", \"ExploraGear\", 48, 32, 18, 30, \"Nylon balístico 1000D\", \"Diario y viajes cortos\"),\n",
        "    Mochila(\"MOC002\", \"Mochila Senderista\", \"Verde oliva\", \"MontañaViva\", 60, 35, 25, 50, \"Poliéster Ripstop\", \"Senderismo y campismo\"),\n",
        "    Mochila(\"MOC003\", \"Mochila Minimalista\", \"Gris claro\", \"UrbanPack\", 40, 28, 15, 18, \"Lona de algodón\", \"Urbano y laptop\"),\n",
        "    Mochila(\"MOC004\", \"Mochila Táctica\", \"Camuflaje desierto\", \"GearUp\", 55, 30, 22, 40, \"Cordura 500D\", \"Militar y actividades al aire libre\"),\n",
        "    Mochila(\"MOC005\", \"Mochila de Viaje\", \"Azul marino\", \"Globetrotter\", 52, 34, 20, 35, \"Nylon 600D\", \"Viajes de fin de semana\")\n",
        "]\n",
        "\n",
        "# Iterar sobre la lista de objetos Mochila usando un ciclo 'for'\n",
        "print(\"--- Información detallada de las mochilas ---\")\n",
        "for mochila_actual in lista_mochilas:\n",
        "    print(f\"\\n{mochila_actual}\") # Se imprime la representación definida en __str__\n",
        "\n",
        "print(\"\\n--- Fin de la lista ---\")\n",
        "\n",
        "# Puedes buscar una mochila por su matrícula, por ejemplo:\n",
        "matricula_buscada = \"MOC003\"\n",
        "print(f\"\\nBuscando mochila con matrícula: {matricula_buscada}\")\n",
        "encontrada = False\n",
        "for mochila in lista_mochilas:\n",
        "    if mochila.matricula == matricula_buscada:\n",
        "        print(f\"¡Mochila encontrada!\\n{mochila}\")\n",
        "        encontrada = True\n",
        "        break\n",
        "if not encontrada:\n",
        "    print(f\"No se encontró ninguna mochila con la matrícula {matricula_buscada}.\")"
      ],
      "metadata": {
        "colab": {
          "base_uri": "https://localhost:8080/"
        },
        "id": "mzxfVA-cYORu",
        "outputId": "d63f1bd0-e557-4535-b5e0-45d08a67249b"
      },
      "execution_count": 5,
      "outputs": [
        {
          "output_type": "stream",
          "name": "stdout",
          "text": [
            "--- Información detallada de las mochilas ---\n",
            "\n",
            "Matrícula: MOC001\n",
            "Nombre: Aventurera Urbana\n",
            "  Marca: ExploraGear\n",
            "  Color: Negro carbón con detalles en gris grafito\n",
            "  Tamaño (Alto x Ancho x Profundidad): 48x32x18 cm\n",
            "  Capacidad: 30 litros\n",
            "  Material: Nylon balístico 1000D\n",
            "  Uso principal: Diario y viajes cortos\n",
            "\n",
            "Matrícula: MOC002\n",
            "Nombre: Mochila Senderista\n",
            "  Marca: MontañaViva\n",
            "  Color: Verde oliva\n",
            "  Tamaño (Alto x Ancho x Profundidad): 60x35x25 cm\n",
            "  Capacidad: 50 litros\n",
            "  Material: Poliéster Ripstop\n",
            "  Uso principal: Senderismo y campismo\n",
            "\n",
            "Matrícula: MOC003\n",
            "Nombre: Mochila Minimalista\n",
            "  Marca: UrbanPack\n",
            "  Color: Gris claro\n",
            "  Tamaño (Alto x Ancho x Profundidad): 40x28x15 cm\n",
            "  Capacidad: 18 litros\n",
            "  Material: Lona de algodón\n",
            "  Uso principal: Urbano y laptop\n",
            "\n",
            "Matrícula: MOC004\n",
            "Nombre: Mochila Táctica\n",
            "  Marca: GearUp\n",
            "  Color: Camuflaje desierto\n",
            "  Tamaño (Alto x Ancho x Profundidad): 55x30x22 cm\n",
            "  Capacidad: 40 litros\n",
            "  Material: Cordura 500D\n",
            "  Uso principal: Militar y actividades al aire libre\n",
            "\n",
            "Matrícula: MOC005\n",
            "Nombre: Mochila de Viaje\n",
            "  Marca: Globetrotter\n",
            "  Color: Azul marino\n",
            "  Tamaño (Alto x Ancho x Profundidad): 52x34x20 cm\n",
            "  Capacidad: 35 litros\n",
            "  Material: Nylon 600D\n",
            "  Uso principal: Viajes de fin de semana\n",
            "\n",
            "--- Fin de la lista ---\n",
            "\n",
            "Buscando mochila con matrícula: MOC003\n",
            "¡Mochila encontrada!\n",
            "Matrícula: MOC003\n",
            "Nombre: Mochila Minimalista\n",
            "  Marca: UrbanPack\n",
            "  Color: Gris claro\n",
            "  Tamaño (Alto x Ancho x Profundidad): 40x28x15 cm\n",
            "  Capacidad: 18 litros\n",
            "  Material: Lona de algodón\n",
            "  Uso principal: Urbano y laptop\n"
          ]
        }
      ]
    }
  ]
}