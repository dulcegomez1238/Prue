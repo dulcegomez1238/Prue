{
  "nbformat": 4,
  "nbformat_minor": 0,
  "metadata": {
    "colab": {
      "provenance": [],
      "authorship_tag": "ABX9TyO5inv7OjrFWkJnp9WqwIg/",
      "include_colab_link": true
    },
    "kernelspec": {
      "name": "python3",
      "display_name": "Python 3"
    },
    "language_info": {
      "name": "python"
    }
  },
  "cells": [
    {
      "cell_type": "markdown",
      "metadata": {
        "id": "view-in-github",
        "colab_type": "text"
      },
      "source": [
        "<a href=\"https://colab.research.google.com/github/dulcegomez1238/Prue/blob/main/Act_6_funciones_Dulce_ksrins.ipynb\" target=\"_parent\"><img src=\"https://colab.research.google.com/assets/colab-badge.svg\" alt=\"Open In Colab\"/></a>"
      ]
    },
    {
      "cell_type": "code",
      "execution_count": null,
      "metadata": {
        "id": "VZt0O-jnyTM1"
      },
      "outputs": [],
      "source": []
    },
    {
      "cell_type": "markdown",
      "source": [],
      "metadata": {
        "id": "KALU9dqxzfVh"
      }
    },
    {
      "cell_type": "markdown",
      "source": [
        "funcones en python"
      ],
      "metadata": {
        "id": "cogFWYXJzf0Q"
      }
    },
    {
      "cell_type": "code",
      "source": [
        "#funcion saludar\n",
        "def saludar():\n",
        "  print(\"¡Hola Dulce Karina.\")\n",
        "\n",
        "  #funcion saludar_nombre con parametros\n",
        "  def saludar_nombre(nombre):\n",
        "    print(\"hola\"+ nombre)\n",
        "\n",
        "  #Llamando a la funcion saludar():\n",
        "  saludar()\n",
        "  #llamada a la funcion saludar_nombre con parametros\n",
        "  saludar_nombre(\"hola Dulce Karina 5J\")\n"
      ],
      "metadata": {
        "id": "KfFHZCiUzmE_"
      },
      "execution_count": 12,
      "outputs": []
    },
    {
      "cell_type": "markdown",
      "source": [
        "funcion calcular suma( )con dos parametros"
      ],
      "metadata": {
        "id": "24I2b25x1awq"
      }
    },
    {
      "cell_type": "code",
      "source": [],
      "metadata": {
        "id": "EBXIQk-G11BP"
      },
      "execution_count": null,
      "outputs": []
    },
    {
      "cell_type": "code",
      "source": [
        "def suma(d,k):\n",
        "  s=d+k\n",
        "  return s\n",
        "\n",
        "  #llamar a la funcion suma\n",
        "\n",
        "  print('la suma es',suma(2,3))"
      ],
      "metadata": {
        "id": "ykSqIF-I1nU_"
      },
      "execution_count": 11,
      "outputs": []
    }
  ]
}