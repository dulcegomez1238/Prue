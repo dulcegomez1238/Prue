{
  "nbformat": 4,
  "nbformat_minor": 0,
  "metadata": {
    "colab": {
      "provenance": [],
      "authorship_tag": "ABX9TyPEECsshGlBlUGcsi+Zxsmz",
      "include_colab_link": true
    },
    "kernelspec": {
      "name": "python3",
      "display_name": "Python 3"
    },
    "language_info": {
      "name": "python"
    }
  },
  "cells": [
    {
      "cell_type": "markdown",
      "metadata": {
        "id": "view-in-github",
        "colab_type": "text"
      },
      "source": [
        "<a href=\"https://colab.research.google.com/github/dulcegomez1238/Prue/blob/main/exa_dulce_gomez.ipynb\" target=\"_parent\"><img src=\"https://colab.research.google.com/assets/colab-badge.svg\" alt=\"Open In Colab\"/></a>"
      ]
    },
    {
      "cell_type": "code",
      "execution_count": null,
      "metadata": {
        "id": "UG-yLMAlRcbM"
      },
      "outputs": [],
      "source": []
    },
    {
      "cell_type": "markdown",
      "source": [
        "##DULCE KARINA GOMEZ PATIÑO\n",
        "##GRADO Y GRUPO \"5J\"\n",
        "##NUM CONTROL 223220051500080\n"
      ],
      "metadata": {
        "id": "e8sOHClhS24x"
      }
    },
    {
      "cell_type": "code",
      "source": [
        "mochila_aventurera_urbana = {\n",
        "    \"nombre\": \"Aventurera Urbana\",\n",
        "    \"color\": \"Negro carbón con detalles en gris grafito\",\n",
        "    \"marca\": \"ExploraGear\",\n",
        "    \"tamaño_cm\": {\n",
        "        \"alto\": 48,\n",
        "        \"ancho\": 32,\n",
        "        \"profundidad\": 18,\n",
        "        \"profundidad_expandida\": 25\n",
        "    },\n",
        "    \"capacidad_litros\": {\n",
        "        \"base\": 30,\n",
        "        \"expandida\": 40\n",
        "    },\n",
        "    \"material\": \"Nylon balístico 1000D resistente al agua y a la abrasión\",\n",
        "    \"compartimentos\": [\n",
        "        \"Compartimento principal espacioso con cremallera doble\",\n",
        "        \"Bolsillo acolchado para laptop de hasta 15.6 pulgadas\",\n",
        "        \"Bolsillo frontal con organizador interno para bolígrafos, tarjetas y pequeños accesorios\",\n",
        "        \"Dos bolsillos laterales de malla elástica para botellas de agua o paraguas\",\n",
        "        \"Bolsillo secreto antirrobo en la parte trasera\",\n",
        "        \"Pequeño bolsillo superior forrado para gafas de sol o dispositivos electrónicos delicados\"\n",
        "    ],\n",
        "    \"caracteristicas_adicionales\": [\n",
        "        \"Espalda acolchada y transpirable con sistema de flujo de aire\",\n",
        "        \"Correas de hombro ergonómicas y ajustables con malla para mayor comodidad\",\n",
        "        \"Correa de esternón ajustable para distribuir el peso\",\n",
        "        \"Asa de transporte superior reforzada\",\n",
        "        \"Cremalleras YKK de alta resistencia\",\n",
        "        \"Puntos de anclaje externos para sujetar equipo adicional\",\n",
        "        \"Funda impermeable integrada en un bolsillo inferior\"\n",
        "    ],\n",
        "    \"uso_recomendado\": [\n",
        "        \"Viajes\",\n",
        "        \"Uso diario\",\n",
        "        \"Universidad\",\n",
        "        \"Trabajo\",\n",
        "        \"Pequeñas excursiones\"\n",
        "    ],\n",
        "    \"estilo\": \"Moderno, funcional y discreto\"\n",
        "}\n",
        "\n",
        "# Puedes imprimir el diccionario completo para verlo\n",
        "# print(mochila_aventurera_urbana)\n",
        "\n",
        "# O acceder a elementos específicos, por ejemplo:\n",
        "print(f\"La marca de la mochila es: {mochila_aventurera_urbana['marca']}\")\n",
        "print(f\"El color principal es: {mochila_aventurera_urbana['color']}\")\n",
        "print(f\"La altura de la mochila es: {mochila_aventurera_urbana['tamaño_cm']['alto']} cm\")\n",
        "print(f\"Uno de los compartimentos es: {mochila_aventurera_urbana['compartimentos'][1]}\")"
      ],
      "metadata": {
        "colab": {
          "base_uri": "https://localhost:8080/"
        },
        "id": "hZ_PRdcxTKXw",
        "outputId": "48ba5a68-21dd-4216-9fe5-668afdd65e0a"
      },
      "execution_count": null,
      "outputs": [
        {
          "output_type": "stream",
          "name": "stdout",
          "text": [
            "La marca de la mochila es: ExploraGear\n",
            "El color principal es: Negro carbón con detalles en gris grafito\n",
            "La altura de la mochila es: 48 cm\n",
            "Uno de los compartimentos es: Bolsillo acolchado para laptop de hasta 15.6 pulgadas\n"
          ]
        }
      ]
    }
  ]
}